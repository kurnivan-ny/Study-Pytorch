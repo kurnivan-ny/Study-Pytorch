{
 "cells": [
  {
   "cell_type": "markdown",
   "metadata": {},
   "source": [
    "Initializing Tensors"
   ]
  },
  {
   "cell_type": "code",
   "execution_count": 1,
   "metadata": {},
   "outputs": [],
   "source": [
    "import torch"
   ]
  },
  {
   "cell_type": "code",
   "execution_count": 7,
   "metadata": {},
   "outputs": [
    {
     "name": "stdout",
     "output_type": "stream",
     "text": [
      "tensor([[1., 2., 3.],\n",
      "        [4., 5., 6.]], device='cuda:0', dtype=torch.float16,\n",
      "       requires_grad=True)\n",
      "torch.float16\n",
      "torch.Size([2, 3])\n",
      "cuda:0\n",
      "True\n"
     ]
    }
   ],
   "source": [
    "device = \"cuda\" if torch.cuda.is_available() else \"cpu\"\n",
    "\n",
    "tensor = torch.tensor(([1, 2, 3], [4, 5, 6]), dtype=torch.float16, device=device, requires_grad=True) #cpu or cuda\n",
    "print(tensor)\n",
    "print(tensor.dtype)\n",
    "print(tensor.shape)\n",
    "print(tensor.device)\n",
    "print(tensor.requires_grad)"
   ]
  },
  {
   "cell_type": "code",
   "execution_count": 50,
   "metadata": {},
   "outputs": [],
   "source": [
    "x = torch.empty((4,4))\n",
    "x = torch.zeros((3,3))\n",
    "x = torch.rand((3,3))\n",
    "x = torch.ones((3,3))\n",
    "x = torch.eye(5,5)\n",
    "x = torch.arange(0, 5, 1) # 0, 1, 2, 3, 4\n",
    "x = torch.linspace(0,5,5) # 0, 1.25, 2.5, 3.75, 5\n",
    "x = torch.empty((1,5)).normal_(mean=0, std=1)\n",
    "x = torch.empty((1,5)).uniform_(0,1) #uniform_(from=0, to=1)\n",
    "x = torch.diag(torch.ones(3))"
   ]
  },
  {
   "cell_type": "code",
   "execution_count": 55,
   "metadata": {},
   "outputs": [
    {
     "name": "stdout",
     "output_type": "stream",
     "text": [
      "tensor([False,  True,  True,  True])\n",
      "tensor([0, 1, 2, 3], dtype=torch.int16)\n",
      "tensor([0, 1, 2, 3])\n",
      "tensor([0., 1., 2., 3.], dtype=torch.float16)\n",
      "tensor([0., 1., 2., 3.])\n",
      "tensor([0., 1., 2., 3.], dtype=torch.float64)\n"
     ]
    }
   ],
   "source": [
    "# convert tensor to other types (int, float, double)\n",
    "tensor = torch.arange(4)\n",
    "print(tensor.bool()) # True or False\n",
    "print(tensor.short()) # int16\n",
    "print(tensor.long()) #int64 (important)\n",
    "print(tensor.half()) #float16\n",
    "print(tensor.float()) #float32 (important)\n",
    "print(tensor.double()) #float64"
   ]
  },
  {
   "cell_type": "code",
   "execution_count": 56,
   "metadata": {},
   "outputs": [],
   "source": [
    "# array to tensor conversion and vice-versa\n",
    "import numpy as np\n",
    "np_array = np.zeros([5,5])\n",
    "tensor = torch.from_numpy(np_array)\n",
    "np_array_back = tensor.numpy()"
   ]
  },
  {
   "cell_type": "markdown",
   "metadata": {},
   "source": [
    "Math & Comparison Operations"
   ]
  },
  {
   "cell_type": "code",
   "execution_count": 58,
   "metadata": {},
   "outputs": [
    {
     "data": {
      "text/plain": [
       "tensor([10., 10., 10.])"
      ]
     },
     "execution_count": 58,
     "metadata": {},
     "output_type": "execute_result"
    }
   ],
   "source": [
    "x = torch.tensor([1,2,3])\n",
    "y = torch.tensor([9,8,7])\n",
    "# addition (add)\n",
    "z1 = torch.empty(3)\n",
    "torch.add(x, y, out=z1)\n",
    "z2 = torch.add(x,y)\n",
    "z = x + y"
   ]
  },
  {
   "cell_type": "code",
   "execution_count": 82,
   "metadata": {},
   "outputs": [
    {
     "data": {
      "text/plain": [
       "tensor([ 9, 16, 21])"
      ]
     },
     "execution_count": 82,
     "metadata": {},
     "output_type": "execute_result"
    }
   ],
   "source": [
    "# substraction (sub)\n",
    "z = x-y\n",
    "\n",
    "# division\n",
    "z = torch.true_divide(x,y)\n",
    "\n",
    "# multiplies\n",
    "torch.mul(x,y)"
   ]
  },
  {
   "cell_type": "code",
   "execution_count": 72,
   "metadata": {},
   "outputs": [],
   "source": [
    "# inplace operations\n",
    "t = torch.zeros(3)\n",
    "t.add_(x)\n",
    "t += x # t = t + x"
   ]
  },
  {
   "cell_type": "code",
   "execution_count": 75,
   "metadata": {},
   "outputs": [
    {
     "data": {
      "text/plain": [
       "tensor([1, 4, 9])"
      ]
     },
     "execution_count": 75,
     "metadata": {},
     "output_type": "execute_result"
    }
   ],
   "source": [
    "# Exponentiation\n",
    "z = x.pow(2)\n",
    "z = x ** 2"
   ]
  },
  {
   "cell_type": "code",
   "execution_count": 78,
   "metadata": {},
   "outputs": [
    {
     "data": {
      "text/plain": [
       "tensor([False, False, False])"
      ]
     },
     "execution_count": 78,
     "metadata": {},
     "output_type": "execute_result"
    }
   ],
   "source": [
    "# Simple Comparison\n",
    "z = x > 0\n",
    "z = x < 0\n",
    "z"
   ]
  },
  {
   "cell_type": "code",
   "execution_count": 81,
   "metadata": {},
   "outputs": [
    {
     "data": {
      "text/plain": [
       "tensor([[1.4494, 1.3573, 1.3242],\n",
       "        [1.5820, 1.2177, 1.1714]])"
      ]
     },
     "execution_count": 81,
     "metadata": {},
     "output_type": "execute_result"
    }
   ],
   "source": [
    "# matrix multiplication\n",
    "x1 = torch.rand((2,5))\n",
    "x2 = torch.rand((5,3))\n",
    "x3 = torch.mm(x1,x2) #2,3\n",
    "x3 = x1.mm(x2)\n",
    "x3"
   ]
  },
  {
   "cell_type": "code",
   "execution_count": 86,
   "metadata": {},
   "outputs": [
    {
     "name": "stdout",
     "output_type": "stream",
     "text": [
      "tensor([[0.0885, 0.5685, 0.7099, 0.2875, 0.0995],\n",
      "        [0.4176, 0.0095, 0.1323, 0.8523, 0.5170],\n",
      "        [0.8162, 0.3118, 0.3683, 0.5084, 0.1702],\n",
      "        [0.0666, 0.0987, 0.3461, 0.5744, 0.5664],\n",
      "        [0.2483, 0.4694, 0.8606, 0.7418, 0.9996]])\n"
     ]
    },
    {
     "data": {
      "text/plain": [
       "tensor([[0.9453, 1.1110, 1.8528, 1.9934, 1.6823],\n",
       "        [1.5057, 1.1416, 2.0069, 2.5710, 2.2047],\n",
       "        [1.4922, 1.1399, 1.9422, 2.5231, 1.9986],\n",
       "        [1.2732, 1.1409, 1.9687, 2.3295, 2.0327],\n",
       "        [2.4658, 2.2888, 3.9037, 4.5685, 3.9093]])"
      ]
     },
     "execution_count": 86,
     "metadata": {},
     "output_type": "execute_result"
    }
   ],
   "source": [
    "# matrix exponentiation\n",
    "matrix_exp = torch.rand(5,5)\n",
    "print(matrix_exp)\n",
    "matrix_exp.matrix_power(3)"
   ]
  },
  {
   "cell_type": "code",
   "execution_count": 87,
   "metadata": {},
   "outputs": [
    {
     "data": {
      "text/plain": [
       "tensor([ 9, 16, 21])"
      ]
     },
     "execution_count": 87,
     "metadata": {},
     "output_type": "execute_result"
    }
   ],
   "source": [
    "# element wise mult\n",
    "z = x * y\n",
    "z"
   ]
  },
  {
   "cell_type": "code",
   "execution_count": 88,
   "metadata": {},
   "outputs": [
    {
     "data": {
      "text/plain": [
       "tensor(46)"
      ]
     },
     "execution_count": 88,
     "metadata": {},
     "output_type": "execute_result"
    }
   ],
   "source": [
    "# dot product\n",
    "z = torch.dot(x,y)\n",
    "z"
   ]
  },
  {
   "cell_type": "code",
   "execution_count": 90,
   "metadata": {},
   "outputs": [],
   "source": [
    "# Batch Matrix Multiplication\n",
    "batch = 32\n",
    "n = 10\n",
    "m = 20\n",
    "p = 30\n",
    "\n",
    "tensor1 = torch.rand((batch, n, m))\n",
    "tensor2 = torch.rand((batch, m, p))\n",
    "out_bmm = torch.bmm(tensor1, tensor2) # (batch, n, p)"
   ]
  },
  {
   "cell_type": "code",
   "execution_count": 95,
   "metadata": {},
   "outputs": [
    {
     "name": "stdout",
     "output_type": "stream",
     "text": [
      "tensor([[ 0.3810,  0.2653,  0.1531, -0.7052, -0.4399],\n",
      "        [ 0.5630, -0.1691,  0.0364, -0.6834,  0.3283],\n",
      "        [ 0.2680,  0.0622, -0.1111, -0.7342, -0.1141],\n",
      "        [ 0.6177, -0.5010,  0.3468, -0.1184, -0.3676],\n",
      "        [ 0.2076,  0.0626, -0.0736, -0.7944,  0.2530]])\n",
      "tensor([[0.7515, 0.8521, 0.3118, 0.2109, 0.1187],\n",
      "        [0.9335, 0.4177, 0.1951, 0.2327, 0.8869],\n",
      "        [0.6386, 0.6490, 0.0477, 0.1818, 0.4445],\n",
      "        [0.9883, 0.0858, 0.5056, 0.7977, 0.1910],\n",
      "        [0.5782, 0.6494, 0.0852, 0.1216, 0.8116]])\n",
      "tensor([[0.3705, 0.5868, 0.1587, 0.9161, 0.5586]])\n",
      "tensor([[0.8996, 0.9103, 0.8311, 0.2403, 0.3040],\n",
      "        [0.9748, 0.5992, 0.7715, 0.2630, 0.9352],\n",
      "        [0.8469, 0.7759, 0.6169, 0.2098, 0.6358],\n",
      "        [0.9956, 0.2367, 0.8974, 0.8130, 0.3966],\n",
      "        [0.8163, 0.7762, 0.6764, 0.1452, 0.8899]])\n"
     ]
    }
   ],
   "source": [
    "# Example of Broadcasting\n",
    "x1 = torch.rand((5,5))\n",
    "x2 = torch.rand((1,5))\n",
    "\n",
    "z = x1-x2\n",
    "print(z)\n",
    "z = x1 **x2\n",
    "print(x1)\n",
    "print(x2)\n",
    "print(z)"
   ]
  },
  {
   "cell_type": "code",
   "execution_count": null,
   "metadata": {},
   "outputs": [],
   "source": []
  },
  {
   "cell_type": "markdown",
   "metadata": {},
   "source": [
    "Indexing"
   ]
  },
  {
   "cell_type": "code",
   "execution_count": null,
   "metadata": {},
   "outputs": [],
   "source": []
  },
  {
   "cell_type": "markdown",
   "metadata": {},
   "source": [
    "Reshaping"
   ]
  }
 ],
 "metadata": {
  "kernelspec": {
   "display_name": "Python 3.6.13 ('pytorch')",
   "language": "python",
   "name": "python3"
  },
  "language_info": {
   "codemirror_mode": {
    "name": "ipython",
    "version": 3
   },
   "file_extension": ".py",
   "mimetype": "text/x-python",
   "name": "python",
   "nbconvert_exporter": "python",
   "pygments_lexer": "ipython3",
   "version": "3.6.13"
  },
  "orig_nbformat": 4,
  "vscode": {
   "interpreter": {
    "hash": "08dbafc6e9f35644c34caf4022547f2d01eb7095ae180a9657adf7ef75562120"
   }
  }
 },
 "nbformat": 4,
 "nbformat_minor": 2
}
